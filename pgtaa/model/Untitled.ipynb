{
 "cells": [
  {
   "cell_type": "code",
   "execution_count": 2,
   "metadata": {},
   "outputs": [],
   "source": [
    "import torch\n",
    "import torch.nn as nn\n",
    "import torch.nn.functional as F\n",
    "from torch.distributions import Beta, Dirichlet\n",
    "\n",
    "import numpy as np"
   ]
  },
  {
   "cell_type": "code",
   "execution_count": null,
   "metadata": {},
   "outputs": [],
   "source": [
    "torch."
   ]
  },
  {
   "cell_type": "code",
   "execution_count": 20,
   "metadata": {},
   "outputs": [],
   "source": [
    "d = Dirichlet(torch.rand((1,5)))"
   ]
  },
  {
   "cell_type": "code",
   "execution_count": 21,
   "metadata": {},
   "outputs": [
    {
     "data": {
      "text/plain": [
       "tensor([[0.2552, 0.4499, 0.1100, 0.0270, 0.1578]])"
      ]
     },
     "execution_count": 21,
     "metadata": {},
     "output_type": "execute_result"
    }
   ],
   "source": [
    "d.sample()"
   ]
  },
  {
   "cell_type": "code",
   "execution_count": 27,
   "metadata": {},
   "outputs": [],
   "source": [
    "b = Beta(torch.tensor([0.3, 0.4, 0.8]), torch.tensor([0.5, 0.3, 0.3]))"
   ]
  },
  {
   "cell_type": "code",
   "execution_count": 30,
   "metadata": {},
   "outputs": [
    {
     "data": {
      "text/plain": [
       "\u001b[0;31mInit signature:\u001b[0m \u001b[0mDirichlet\u001b[0m\u001b[0;34m(\u001b[0m\u001b[0mconcentration\u001b[0m\u001b[0;34m,\u001b[0m \u001b[0mvalidate_args\u001b[0m\u001b[0;34m=\u001b[0m\u001b[0;32mNone\u001b[0m\u001b[0;34m)\u001b[0m\u001b[0;34m\u001b[0m\u001b[0m\n",
       "\u001b[0;31mSource:\u001b[0m        \n",
       "\u001b[0;32mclass\u001b[0m \u001b[0mDirichlet\u001b[0m\u001b[0;34m(\u001b[0m\u001b[0mExponentialFamily\u001b[0m\u001b[0;34m)\u001b[0m\u001b[0;34m:\u001b[0m\u001b[0;34m\u001b[0m\n",
       "\u001b[0;34m\u001b[0m    \u001b[0;34mr\"\"\"\u001b[0m\n",
       "\u001b[0;34m    Creates a Dirichlet distribution parameterized by concentration :attr:`concentration`.\u001b[0m\n",
       "\u001b[0;34m\u001b[0m\n",
       "\u001b[0;34m    Example::\u001b[0m\n",
       "\u001b[0;34m\u001b[0m\n",
       "\u001b[0;34m        >>> m = Dirichlet(torch.tensor([0.5, 0.5]))\u001b[0m\n",
       "\u001b[0;34m        >>> m.sample()  # Dirichlet distributed with concentrarion concentration\u001b[0m\n",
       "\u001b[0;34m        tensor([ 0.1046,  0.8954])\u001b[0m\n",
       "\u001b[0;34m\u001b[0m\n",
       "\u001b[0;34m    Args:\u001b[0m\n",
       "\u001b[0;34m        concentration (Tensor): concentration parameter of the distribution\u001b[0m\n",
       "\u001b[0;34m            (often referred to as alpha)\u001b[0m\n",
       "\u001b[0;34m    \"\"\"\u001b[0m\u001b[0;34m\u001b[0m\n",
       "\u001b[0;34m\u001b[0m    \u001b[0marg_constraints\u001b[0m \u001b[0;34m=\u001b[0m \u001b[0;34m{\u001b[0m\u001b[0;34m'concentration'\u001b[0m\u001b[0;34m:\u001b[0m \u001b[0mconstraints\u001b[0m\u001b[0;34m.\u001b[0m\u001b[0mpositive\u001b[0m\u001b[0;34m}\u001b[0m\u001b[0;34m\u001b[0m\n",
       "\u001b[0;34m\u001b[0m    \u001b[0msupport\u001b[0m \u001b[0;34m=\u001b[0m \u001b[0mconstraints\u001b[0m\u001b[0;34m.\u001b[0m\u001b[0msimplex\u001b[0m\u001b[0;34m\u001b[0m\n",
       "\u001b[0;34m\u001b[0m    \u001b[0mhas_rsample\u001b[0m \u001b[0;34m=\u001b[0m \u001b[0;32mTrue\u001b[0m\u001b[0;34m\u001b[0m\n",
       "\u001b[0;34m\u001b[0m\u001b[0;34m\u001b[0m\n",
       "\u001b[0;34m\u001b[0m    \u001b[0;32mdef\u001b[0m \u001b[0m__init__\u001b[0m\u001b[0;34m(\u001b[0m\u001b[0mself\u001b[0m\u001b[0;34m,\u001b[0m \u001b[0mconcentration\u001b[0m\u001b[0;34m,\u001b[0m \u001b[0mvalidate_args\u001b[0m\u001b[0;34m=\u001b[0m\u001b[0;32mNone\u001b[0m\u001b[0;34m)\u001b[0m\u001b[0;34m:\u001b[0m\u001b[0;34m\u001b[0m\n",
       "\u001b[0;34m\u001b[0m        \u001b[0;32mif\u001b[0m \u001b[0mconcentration\u001b[0m\u001b[0;34m.\u001b[0m\u001b[0mdim\u001b[0m\u001b[0;34m(\u001b[0m\u001b[0;34m)\u001b[0m \u001b[0;34m<\u001b[0m \u001b[0;36m1\u001b[0m\u001b[0;34m:\u001b[0m\u001b[0;34m\u001b[0m\n",
       "\u001b[0;34m\u001b[0m            \u001b[0;32mraise\u001b[0m \u001b[0mValueError\u001b[0m\u001b[0;34m(\u001b[0m\u001b[0;34m\"`concentration` parameter must be at least one-dimensional.\"\u001b[0m\u001b[0;34m)\u001b[0m\u001b[0;34m\u001b[0m\n",
       "\u001b[0;34m\u001b[0m        \u001b[0mself\u001b[0m\u001b[0;34m.\u001b[0m\u001b[0mconcentration\u001b[0m \u001b[0;34m=\u001b[0m \u001b[0mconcentration\u001b[0m\u001b[0;34m\u001b[0m\n",
       "\u001b[0;34m\u001b[0m        \u001b[0mbatch_shape\u001b[0m\u001b[0;34m,\u001b[0m \u001b[0mevent_shape\u001b[0m \u001b[0;34m=\u001b[0m \u001b[0mconcentration\u001b[0m\u001b[0;34m.\u001b[0m\u001b[0mshape\u001b[0m\u001b[0;34m[\u001b[0m\u001b[0;34m:\u001b[0m\u001b[0;34m-\u001b[0m\u001b[0;36m1\u001b[0m\u001b[0;34m]\u001b[0m\u001b[0;34m,\u001b[0m \u001b[0mconcentration\u001b[0m\u001b[0;34m.\u001b[0m\u001b[0mshape\u001b[0m\u001b[0;34m[\u001b[0m\u001b[0;34m-\u001b[0m\u001b[0;36m1\u001b[0m\u001b[0;34m:\u001b[0m\u001b[0;34m]\u001b[0m\u001b[0;34m\u001b[0m\n",
       "\u001b[0;34m\u001b[0m        \u001b[0msuper\u001b[0m\u001b[0;34m(\u001b[0m\u001b[0mDirichlet\u001b[0m\u001b[0;34m,\u001b[0m \u001b[0mself\u001b[0m\u001b[0;34m)\u001b[0m\u001b[0;34m.\u001b[0m\u001b[0m__init__\u001b[0m\u001b[0;34m(\u001b[0m\u001b[0mbatch_shape\u001b[0m\u001b[0;34m,\u001b[0m \u001b[0mevent_shape\u001b[0m\u001b[0;34m,\u001b[0m \u001b[0mvalidate_args\u001b[0m\u001b[0;34m=\u001b[0m\u001b[0mvalidate_args\u001b[0m\u001b[0;34m)\u001b[0m\u001b[0;34m\u001b[0m\n",
       "\u001b[0;34m\u001b[0m\u001b[0;34m\u001b[0m\n",
       "\u001b[0;34m\u001b[0m    \u001b[0;32mdef\u001b[0m \u001b[0mexpand\u001b[0m\u001b[0;34m(\u001b[0m\u001b[0mself\u001b[0m\u001b[0;34m,\u001b[0m \u001b[0mbatch_shape\u001b[0m\u001b[0;34m,\u001b[0m \u001b[0m_instance\u001b[0m\u001b[0;34m=\u001b[0m\u001b[0;32mNone\u001b[0m\u001b[0;34m)\u001b[0m\u001b[0;34m:\u001b[0m\u001b[0;34m\u001b[0m\n",
       "\u001b[0;34m\u001b[0m        \u001b[0mnew\u001b[0m \u001b[0;34m=\u001b[0m \u001b[0mself\u001b[0m\u001b[0;34m.\u001b[0m\u001b[0m_get_checked_instance\u001b[0m\u001b[0;34m(\u001b[0m\u001b[0mDirichlet\u001b[0m\u001b[0;34m,\u001b[0m \u001b[0m_instance\u001b[0m\u001b[0;34m)\u001b[0m\u001b[0;34m\u001b[0m\n",
       "\u001b[0;34m\u001b[0m        \u001b[0mbatch_shape\u001b[0m \u001b[0;34m=\u001b[0m \u001b[0mtorch\u001b[0m\u001b[0;34m.\u001b[0m\u001b[0mSize\u001b[0m\u001b[0;34m(\u001b[0m\u001b[0mbatch_shape\u001b[0m\u001b[0;34m)\u001b[0m\u001b[0;34m\u001b[0m\n",
       "\u001b[0;34m\u001b[0m        \u001b[0mnew\u001b[0m\u001b[0;34m.\u001b[0m\u001b[0mconcentration\u001b[0m \u001b[0;34m=\u001b[0m \u001b[0mself\u001b[0m\u001b[0;34m.\u001b[0m\u001b[0mconcentration\u001b[0m\u001b[0;34m.\u001b[0m\u001b[0mexpand\u001b[0m\u001b[0;34m(\u001b[0m\u001b[0mbatch_shape\u001b[0m \u001b[0;34m+\u001b[0m \u001b[0mself\u001b[0m\u001b[0;34m.\u001b[0m\u001b[0mevent_shape\u001b[0m\u001b[0;34m)\u001b[0m\u001b[0;34m\u001b[0m\n",
       "\u001b[0;34m\u001b[0m        \u001b[0msuper\u001b[0m\u001b[0;34m(\u001b[0m\u001b[0mDirichlet\u001b[0m\u001b[0;34m,\u001b[0m \u001b[0mnew\u001b[0m\u001b[0;34m)\u001b[0m\u001b[0;34m.\u001b[0m\u001b[0m__init__\u001b[0m\u001b[0;34m(\u001b[0m\u001b[0mbatch_shape\u001b[0m\u001b[0;34m,\u001b[0m \u001b[0mself\u001b[0m\u001b[0;34m.\u001b[0m\u001b[0mevent_shape\u001b[0m\u001b[0;34m,\u001b[0m \u001b[0mvalidate_args\u001b[0m\u001b[0;34m=\u001b[0m\u001b[0;32mFalse\u001b[0m\u001b[0;34m)\u001b[0m\u001b[0;34m\u001b[0m\n",
       "\u001b[0;34m\u001b[0m        \u001b[0mnew\u001b[0m\u001b[0;34m.\u001b[0m\u001b[0m_validate_args\u001b[0m \u001b[0;34m=\u001b[0m \u001b[0mself\u001b[0m\u001b[0;34m.\u001b[0m\u001b[0m_validate_args\u001b[0m\u001b[0;34m\u001b[0m\n",
       "\u001b[0;34m\u001b[0m        \u001b[0;32mreturn\u001b[0m \u001b[0mnew\u001b[0m\u001b[0;34m\u001b[0m\n",
       "\u001b[0;34m\u001b[0m\u001b[0;34m\u001b[0m\n",
       "\u001b[0;34m\u001b[0m    \u001b[0;32mdef\u001b[0m \u001b[0mrsample\u001b[0m\u001b[0;34m(\u001b[0m\u001b[0mself\u001b[0m\u001b[0;34m,\u001b[0m \u001b[0msample_shape\u001b[0m\u001b[0;34m=\u001b[0m\u001b[0;34m(\u001b[0m\u001b[0;34m)\u001b[0m\u001b[0;34m)\u001b[0m\u001b[0;34m:\u001b[0m\u001b[0;34m\u001b[0m\n",
       "\u001b[0;34m\u001b[0m        \u001b[0mshape\u001b[0m \u001b[0;34m=\u001b[0m \u001b[0mself\u001b[0m\u001b[0;34m.\u001b[0m\u001b[0m_extended_shape\u001b[0m\u001b[0;34m(\u001b[0m\u001b[0msample_shape\u001b[0m\u001b[0;34m)\u001b[0m\u001b[0;34m\u001b[0m\n",
       "\u001b[0;34m\u001b[0m        \u001b[0mconcentration\u001b[0m \u001b[0;34m=\u001b[0m \u001b[0mself\u001b[0m\u001b[0;34m.\u001b[0m\u001b[0mconcentration\u001b[0m\u001b[0;34m.\u001b[0m\u001b[0mexpand\u001b[0m\u001b[0;34m(\u001b[0m\u001b[0mshape\u001b[0m\u001b[0;34m)\u001b[0m\u001b[0;34m\u001b[0m\n",
       "\u001b[0;34m\u001b[0m        \u001b[0;32mif\u001b[0m \u001b[0misinstance\u001b[0m\u001b[0;34m(\u001b[0m\u001b[0mconcentration\u001b[0m\u001b[0;34m,\u001b[0m \u001b[0mtorch\u001b[0m\u001b[0;34m.\u001b[0m\u001b[0mTensor\u001b[0m\u001b[0;34m)\u001b[0m\u001b[0;34m:\u001b[0m\u001b[0;34m\u001b[0m\n",
       "\u001b[0;34m\u001b[0m            \u001b[0;32mreturn\u001b[0m \u001b[0m_Dirichlet\u001b[0m\u001b[0;34m.\u001b[0m\u001b[0mapply\u001b[0m\u001b[0;34m(\u001b[0m\u001b[0mconcentration\u001b[0m\u001b[0;34m)\u001b[0m\u001b[0;34m\u001b[0m\n",
       "\u001b[0;34m\u001b[0m        \u001b[0;32mreturn\u001b[0m \u001b[0m_dirichlet_sample_nograd\u001b[0m\u001b[0;34m(\u001b[0m\u001b[0mconcentration\u001b[0m\u001b[0;34m)\u001b[0m\u001b[0;34m\u001b[0m\n",
       "\u001b[0;34m\u001b[0m\u001b[0;34m\u001b[0m\n",
       "\u001b[0;34m\u001b[0m    \u001b[0;32mdef\u001b[0m \u001b[0mlog_prob\u001b[0m\u001b[0;34m(\u001b[0m\u001b[0mself\u001b[0m\u001b[0;34m,\u001b[0m \u001b[0mvalue\u001b[0m\u001b[0;34m)\u001b[0m\u001b[0;34m:\u001b[0m\u001b[0;34m\u001b[0m\n",
       "\u001b[0;34m\u001b[0m        \u001b[0;32mif\u001b[0m \u001b[0mself\u001b[0m\u001b[0;34m.\u001b[0m\u001b[0m_validate_args\u001b[0m\u001b[0;34m:\u001b[0m\u001b[0;34m\u001b[0m\n",
       "\u001b[0;34m\u001b[0m            \u001b[0mself\u001b[0m\u001b[0;34m.\u001b[0m\u001b[0m_validate_sample\u001b[0m\u001b[0;34m(\u001b[0m\u001b[0mvalue\u001b[0m\u001b[0;34m)\u001b[0m\u001b[0;34m\u001b[0m\n",
       "\u001b[0;34m\u001b[0m        \u001b[0;32mreturn\u001b[0m \u001b[0;34m(\u001b[0m\u001b[0;34m(\u001b[0m\u001b[0mtorch\u001b[0m\u001b[0;34m.\u001b[0m\u001b[0mlog\u001b[0m\u001b[0;34m(\u001b[0m\u001b[0mvalue\u001b[0m\u001b[0;34m)\u001b[0m \u001b[0;34m*\u001b[0m \u001b[0;34m(\u001b[0m\u001b[0mself\u001b[0m\u001b[0;34m.\u001b[0m\u001b[0mconcentration\u001b[0m \u001b[0;34m-\u001b[0m \u001b[0;36m1.0\u001b[0m\u001b[0;34m)\u001b[0m\u001b[0;34m)\u001b[0m\u001b[0;34m.\u001b[0m\u001b[0msum\u001b[0m\u001b[0;34m(\u001b[0m\u001b[0;34m-\u001b[0m\u001b[0;36m1\u001b[0m\u001b[0;34m)\u001b[0m \u001b[0;34m+\u001b[0m\u001b[0;34m\u001b[0m\n",
       "\u001b[0;34m\u001b[0m                \u001b[0mtorch\u001b[0m\u001b[0;34m.\u001b[0m\u001b[0mlgamma\u001b[0m\u001b[0;34m(\u001b[0m\u001b[0mself\u001b[0m\u001b[0;34m.\u001b[0m\u001b[0mconcentration\u001b[0m\u001b[0;34m.\u001b[0m\u001b[0msum\u001b[0m\u001b[0;34m(\u001b[0m\u001b[0;34m-\u001b[0m\u001b[0;36m1\u001b[0m\u001b[0;34m)\u001b[0m\u001b[0;34m)\u001b[0m \u001b[0;34m-\u001b[0m\u001b[0;34m\u001b[0m\n",
       "\u001b[0;34m\u001b[0m                \u001b[0mtorch\u001b[0m\u001b[0;34m.\u001b[0m\u001b[0mlgamma\u001b[0m\u001b[0;34m(\u001b[0m\u001b[0mself\u001b[0m\u001b[0;34m.\u001b[0m\u001b[0mconcentration\u001b[0m\u001b[0;34m)\u001b[0m\u001b[0;34m.\u001b[0m\u001b[0msum\u001b[0m\u001b[0;34m(\u001b[0m\u001b[0;34m-\u001b[0m\u001b[0;36m1\u001b[0m\u001b[0;34m)\u001b[0m\u001b[0;34m)\u001b[0m\u001b[0;34m\u001b[0m\n",
       "\u001b[0;34m\u001b[0m\u001b[0;34m\u001b[0m\n",
       "\u001b[0;34m\u001b[0m    \u001b[0;34m@\u001b[0m\u001b[0mproperty\u001b[0m\u001b[0;34m\u001b[0m\n",
       "\u001b[0;34m\u001b[0m    \u001b[0;32mdef\u001b[0m \u001b[0mmean\u001b[0m\u001b[0;34m(\u001b[0m\u001b[0mself\u001b[0m\u001b[0;34m)\u001b[0m\u001b[0;34m:\u001b[0m\u001b[0;34m\u001b[0m\n",
       "\u001b[0;34m\u001b[0m        \u001b[0;32mreturn\u001b[0m \u001b[0mself\u001b[0m\u001b[0;34m.\u001b[0m\u001b[0mconcentration\u001b[0m \u001b[0;34m/\u001b[0m \u001b[0mself\u001b[0m\u001b[0;34m.\u001b[0m\u001b[0mconcentration\u001b[0m\u001b[0;34m.\u001b[0m\u001b[0msum\u001b[0m\u001b[0;34m(\u001b[0m\u001b[0;34m-\u001b[0m\u001b[0;36m1\u001b[0m\u001b[0;34m,\u001b[0m \u001b[0;32mTrue\u001b[0m\u001b[0;34m)\u001b[0m\u001b[0;34m\u001b[0m\n",
       "\u001b[0;34m\u001b[0m\u001b[0;34m\u001b[0m\n",
       "\u001b[0;34m\u001b[0m    \u001b[0;34m@\u001b[0m\u001b[0mproperty\u001b[0m\u001b[0;34m\u001b[0m\n",
       "\u001b[0;34m\u001b[0m    \u001b[0;32mdef\u001b[0m \u001b[0mvariance\u001b[0m\u001b[0;34m(\u001b[0m\u001b[0mself\u001b[0m\u001b[0;34m)\u001b[0m\u001b[0;34m:\u001b[0m\u001b[0;34m\u001b[0m\n",
       "\u001b[0;34m\u001b[0m        \u001b[0mcon0\u001b[0m \u001b[0;34m=\u001b[0m \u001b[0mself\u001b[0m\u001b[0;34m.\u001b[0m\u001b[0mconcentration\u001b[0m\u001b[0;34m.\u001b[0m\u001b[0msum\u001b[0m\u001b[0;34m(\u001b[0m\u001b[0;34m-\u001b[0m\u001b[0;36m1\u001b[0m\u001b[0;34m,\u001b[0m \u001b[0;32mTrue\u001b[0m\u001b[0;34m)\u001b[0m\u001b[0;34m\u001b[0m\n",
       "\u001b[0;34m\u001b[0m        \u001b[0;32mreturn\u001b[0m \u001b[0mself\u001b[0m\u001b[0;34m.\u001b[0m\u001b[0mconcentration\u001b[0m \u001b[0;34m*\u001b[0m \u001b[0;34m(\u001b[0m\u001b[0mcon0\u001b[0m \u001b[0;34m-\u001b[0m \u001b[0mself\u001b[0m\u001b[0;34m.\u001b[0m\u001b[0mconcentration\u001b[0m\u001b[0;34m)\u001b[0m \u001b[0;34m/\u001b[0m \u001b[0;34m(\u001b[0m\u001b[0mcon0\u001b[0m\u001b[0;34m.\u001b[0m\u001b[0mpow\u001b[0m\u001b[0;34m(\u001b[0m\u001b[0;36m2\u001b[0m\u001b[0;34m)\u001b[0m \u001b[0;34m*\u001b[0m \u001b[0;34m(\u001b[0m\u001b[0mcon0\u001b[0m \u001b[0;34m+\u001b[0m \u001b[0;36m1\u001b[0m\u001b[0;34m)\u001b[0m\u001b[0;34m)\u001b[0m\u001b[0;34m\u001b[0m\n",
       "\u001b[0;34m\u001b[0m\u001b[0;34m\u001b[0m\n",
       "\u001b[0;34m\u001b[0m    \u001b[0;32mdef\u001b[0m \u001b[0mentropy\u001b[0m\u001b[0;34m(\u001b[0m\u001b[0mself\u001b[0m\u001b[0;34m)\u001b[0m\u001b[0;34m:\u001b[0m\u001b[0;34m\u001b[0m\n",
       "\u001b[0;34m\u001b[0m        \u001b[0mk\u001b[0m \u001b[0;34m=\u001b[0m \u001b[0mself\u001b[0m\u001b[0;34m.\u001b[0m\u001b[0mconcentration\u001b[0m\u001b[0;34m.\u001b[0m\u001b[0msize\u001b[0m\u001b[0;34m(\u001b[0m\u001b[0;34m-\u001b[0m\u001b[0;36m1\u001b[0m\u001b[0;34m)\u001b[0m\u001b[0;34m\u001b[0m\n",
       "\u001b[0;34m\u001b[0m        \u001b[0ma0\u001b[0m \u001b[0;34m=\u001b[0m \u001b[0mself\u001b[0m\u001b[0;34m.\u001b[0m\u001b[0mconcentration\u001b[0m\u001b[0;34m.\u001b[0m\u001b[0msum\u001b[0m\u001b[0;34m(\u001b[0m\u001b[0;34m-\u001b[0m\u001b[0;36m1\u001b[0m\u001b[0;34m)\u001b[0m\u001b[0;34m\u001b[0m\n",
       "\u001b[0;34m\u001b[0m        \u001b[0;32mreturn\u001b[0m \u001b[0;34m(\u001b[0m\u001b[0mtorch\u001b[0m\u001b[0;34m.\u001b[0m\u001b[0mlgamma\u001b[0m\u001b[0;34m(\u001b[0m\u001b[0mself\u001b[0m\u001b[0;34m.\u001b[0m\u001b[0mconcentration\u001b[0m\u001b[0;34m)\u001b[0m\u001b[0;34m.\u001b[0m\u001b[0msum\u001b[0m\u001b[0;34m(\u001b[0m\u001b[0;34m-\u001b[0m\u001b[0;36m1\u001b[0m\u001b[0;34m)\u001b[0m \u001b[0;34m-\u001b[0m \u001b[0mtorch\u001b[0m\u001b[0;34m.\u001b[0m\u001b[0mlgamma\u001b[0m\u001b[0;34m(\u001b[0m\u001b[0ma0\u001b[0m\u001b[0;34m)\u001b[0m \u001b[0;34m-\u001b[0m\u001b[0;34m\u001b[0m\n",
       "\u001b[0;34m\u001b[0m                \u001b[0;34m(\u001b[0m\u001b[0mk\u001b[0m \u001b[0;34m-\u001b[0m \u001b[0ma0\u001b[0m\u001b[0;34m)\u001b[0m \u001b[0;34m*\u001b[0m \u001b[0mtorch\u001b[0m\u001b[0;34m.\u001b[0m\u001b[0mdigamma\u001b[0m\u001b[0;34m(\u001b[0m\u001b[0ma0\u001b[0m\u001b[0;34m)\u001b[0m \u001b[0;34m-\u001b[0m\u001b[0;34m\u001b[0m\n",
       "\u001b[0;34m\u001b[0m                \u001b[0;34m(\u001b[0m\u001b[0;34m(\u001b[0m\u001b[0mself\u001b[0m\u001b[0;34m.\u001b[0m\u001b[0mconcentration\u001b[0m \u001b[0;34m-\u001b[0m \u001b[0;36m1.0\u001b[0m\u001b[0;34m)\u001b[0m \u001b[0;34m*\u001b[0m \u001b[0mtorch\u001b[0m\u001b[0;34m.\u001b[0m\u001b[0mdigamma\u001b[0m\u001b[0;34m(\u001b[0m\u001b[0mself\u001b[0m\u001b[0;34m.\u001b[0m\u001b[0mconcentration\u001b[0m\u001b[0;34m)\u001b[0m\u001b[0;34m)\u001b[0m\u001b[0;34m.\u001b[0m\u001b[0msum\u001b[0m\u001b[0;34m(\u001b[0m\u001b[0;34m-\u001b[0m\u001b[0;36m1\u001b[0m\u001b[0;34m)\u001b[0m\u001b[0;34m)\u001b[0m\u001b[0;34m\u001b[0m\n",
       "\u001b[0;34m\u001b[0m\u001b[0;34m\u001b[0m\n",
       "\u001b[0;34m\u001b[0m    \u001b[0;34m@\u001b[0m\u001b[0mproperty\u001b[0m\u001b[0;34m\u001b[0m\n",
       "\u001b[0;34m\u001b[0m    \u001b[0;32mdef\u001b[0m \u001b[0m_natural_params\u001b[0m\u001b[0;34m(\u001b[0m\u001b[0mself\u001b[0m\u001b[0;34m)\u001b[0m\u001b[0;34m:\u001b[0m\u001b[0;34m\u001b[0m\n",
       "\u001b[0;34m\u001b[0m        \u001b[0;32mreturn\u001b[0m \u001b[0;34m(\u001b[0m\u001b[0mself\u001b[0m\u001b[0;34m.\u001b[0m\u001b[0mconcentration\u001b[0m\u001b[0;34m,\u001b[0m \u001b[0;34m)\u001b[0m\u001b[0;34m\u001b[0m\n",
       "\u001b[0;34m\u001b[0m\u001b[0;34m\u001b[0m\n",
       "\u001b[0;34m\u001b[0m    \u001b[0;32mdef\u001b[0m \u001b[0m_log_normalizer\u001b[0m\u001b[0;34m(\u001b[0m\u001b[0mself\u001b[0m\u001b[0;34m,\u001b[0m \u001b[0mx\u001b[0m\u001b[0;34m)\u001b[0m\u001b[0;34m:\u001b[0m\u001b[0;34m\u001b[0m\n",
       "\u001b[0;34m\u001b[0m        \u001b[0;32mreturn\u001b[0m \u001b[0mx\u001b[0m\u001b[0;34m.\u001b[0m\u001b[0mlgamma\u001b[0m\u001b[0;34m(\u001b[0m\u001b[0;34m)\u001b[0m\u001b[0;34m.\u001b[0m\u001b[0msum\u001b[0m\u001b[0;34m(\u001b[0m\u001b[0;34m-\u001b[0m\u001b[0;36m1\u001b[0m\u001b[0;34m)\u001b[0m \u001b[0;34m-\u001b[0m \u001b[0mtorch\u001b[0m\u001b[0;34m.\u001b[0m\u001b[0mlgamma\u001b[0m\u001b[0;34m(\u001b[0m\u001b[0mx\u001b[0m\u001b[0;34m.\u001b[0m\u001b[0msum\u001b[0m\u001b[0;34m(\u001b[0m\u001b[0;34m-\u001b[0m\u001b[0;36m1\u001b[0m\u001b[0;34m)\u001b[0m\u001b[0;34m)\u001b[0m\u001b[0;34m\u001b[0m\u001b[0m\n",
       "\u001b[0;31mFile:\u001b[0m           ~/anaconda3/envs/fast1/lib/python3.7/site-packages/torch/distributions/dirichlet.py\n",
       "\u001b[0;31mType:\u001b[0m           type\n"
      ]
     },
     "metadata": {},
     "output_type": "display_data"
    }
   ],
   "source": [
    "??Dirichlet"
   ]
  },
  {
   "cell_type": "code",
   "execution_count": 48,
   "metadata": {},
   "outputs": [
    {
     "name": "stdout",
     "output_type": "stream",
     "text": [
      "Sequential(\n",
      "  (0): Linear(in_features=20, out_features=6, bias=True)\n",
      "  (1): ReLU()\n",
      "  (2): Linear(in_features=6, out_features=8, bias=True)\n",
      "  (3): ReLU()\n",
      "  (4): Linear(in_features=8, out_features=8, bias=True)\n",
      "  (5): ReLU()\n",
      "  (6): Linear(in_features=8, out_features=4, bias=True)\n",
      "  (7): ReLU()\n",
      "  (8): Linear(in_features=4, out_features=7, bias=True)\n",
      ")\n",
      "cpu\n"
     ]
    }
   ],
   "source": [
    "device = torch.device('cpu')\n",
    "if torch.cuda.is_available():\n",
    "    device = torch.device('cuda')\n",
    "\n",
    "dim = (20,)\n",
    "out = (7,)\n",
    "ls = [6,8,8,4]\n",
    "\n",
    "layers = []\n",
    "for i in range(len(ls)):\n",
    "    layers.append(nn.ReLU())\n",
    "    layers.append(nn.Linear(ls[i], ls[i + 1]))\n",
    "\n",
    "layers = [nn.Linear(dim[0], ls[0])]\n",
    "for i in range(len(ls) - 1):\n",
    "    layers.append(nn.ReLU())\n",
    "    layers.append(nn.Linear(ls[i], ls[i + 1]))\n",
    "layers.append(nn.ReLU())\n",
    "layers.append(nn.Linear(ls[-1], out[0]))\n",
    "\n",
    "model = nn.Sequential(*layers).to(device)\n",
    "\n",
    "print(model)\n",
    "print(device)"
   ]
  },
  {
   "cell_type": "code",
   "execution_count": 53,
   "metadata": {},
   "outputs": [
    {
     "data": {
      "text/plain": [
       "tensor([ 0.2590,  0.4158,  0.1676, -0.5395,  0.4768, -0.4109,  0.3691],\n",
       "       grad_fn=<AddBackward0>)"
      ]
     },
     "execution_count": 53,
     "metadata": {},
     "output_type": "execute_result"
    }
   ],
   "source": [
    "model(torch.randn((20,)))"
   ]
  },
  {
   "cell_type": "code",
   "execution_count": 95,
   "metadata": {},
   "outputs": [],
   "source": [
    "import torch\n",
    "import torch.nn as nn\n",
    "\n",
    "if torch.cuda.is_available():\n",
    "    device = torch.device('cuda')\n",
    "else:\n",
    "    device = torch.device('cpu')\n",
    "        \n",
    "def init_weights(layer: nn.Module):\n",
    "    if type(layer) == nn.Linear:\n",
    "        torch.nn.init.kaiming_uniform_(layer.weight, nonlinearity='relu')\n",
    "        layer.bias.data.fill_(0.)\n",
    "\n",
    "def build_mlp(in_dim: tuple, out_dim: tuple, layers: list):\n",
    "    net = [nn.Linear(in_dim[0], layers[0])]\n",
    "    \n",
    "    for i in range(len(layers) - 1):\n",
    "        net.append(nn.ReLU())\n",
    "        net.append(nn.Linear(layers[i], layers[i + 1]))\n",
    "        \n",
    "    net.append(nn.ReLU())\n",
    "    net.append(nn.Linear(layers[-1], out_dim[0]))\n",
    "\n",
    "    net = nn.Sequential(*net).to(device)\n",
    "    net.apply(init_weights)\n",
    "    \n",
    "    return net"
   ]
  },
  {
   "cell_type": "code",
   "execution_count": 96,
   "metadata": {},
   "outputs": [],
   "source": [
    "mlp = build_mlp(in_dim=(20,), out_dim=(7,), layers=[8,7,6,5])"
   ]
  },
  {
   "cell_type": "code",
   "execution_count": 97,
   "metadata": {},
   "outputs": [
    {
     "data": {
      "text/plain": [
       "[Parameter containing:\n",
       " tensor([[ 0.5254,  0.1563,  0.4073, -0.4238, -0.4611,  0.4745, -0.4721, -0.4046,\n",
       "           0.0309, -0.1514,  0.5128, -0.3894,  0.0888, -0.5222,  0.0327, -0.2393,\n",
       "          -0.2331, -0.4002,  0.5146,  0.2501],\n",
       "         [ 0.0864,  0.1765, -0.2520, -0.1480,  0.3296, -0.2804, -0.0099,  0.2843,\n",
       "          -0.1035,  0.4085, -0.2743,  0.1129,  0.2098,  0.3242,  0.2360, -0.4926,\n",
       "           0.2998,  0.2409, -0.2786,  0.5271],\n",
       "         [ 0.2701,  0.0844, -0.1469, -0.1306,  0.4427,  0.0418, -0.1324, -0.4709,\n",
       "           0.5132,  0.1400, -0.1024,  0.2705, -0.5034,  0.1209, -0.4951,  0.3939,\n",
       "           0.0933,  0.1042, -0.0394, -0.3291],\n",
       "         [ 0.4559, -0.2152,  0.1740, -0.1812,  0.0946, -0.4688,  0.2741,  0.0629,\n",
       "           0.2609,  0.3315,  0.4681, -0.1700,  0.2243, -0.0414,  0.3478,  0.1238,\n",
       "          -0.5217, -0.2124,  0.4387, -0.2533],\n",
       "         [-0.4276,  0.0029, -0.1156,  0.0586,  0.0050, -0.0126, -0.2282, -0.3918,\n",
       "           0.5331,  0.3120,  0.2338, -0.5439, -0.4633, -0.5392, -0.4744,  0.0401,\n",
       "          -0.0321,  0.1283,  0.5242, -0.2032],\n",
       "         [-0.3132, -0.0004, -0.0616, -0.2139, -0.4661, -0.2660, -0.2764, -0.3787,\n",
       "           0.4042,  0.3035, -0.3308, -0.3507, -0.4926, -0.1554,  0.2348, -0.2434,\n",
       "           0.2416, -0.4201, -0.3296,  0.0499],\n",
       "         [-0.5410, -0.1370, -0.0144, -0.2694, -0.4439, -0.3445,  0.3187, -0.2700,\n",
       "          -0.1954,  0.1313, -0.1688,  0.4962,  0.3512,  0.4929, -0.3982, -0.5197,\n",
       "           0.0700,  0.4340, -0.1385, -0.2744],\n",
       "         [-0.4124, -0.2313,  0.0218,  0.1989, -0.2425,  0.3052,  0.1832, -0.4718,\n",
       "          -0.0342, -0.3442, -0.2694, -0.3499,  0.4435, -0.3797,  0.2422,  0.3393,\n",
       "           0.4470, -0.3620,  0.2343, -0.1571]], requires_grad=True),\n",
       " Parameter containing:\n",
       " tensor([0., 0., 0., 0., 0., 0., 0., 0.], requires_grad=True),\n",
       " Parameter containing:\n",
       " tensor([[-0.6775,  0.5818, -0.5056, -0.2452, -0.5316,  0.6579, -0.6591,  0.1506],\n",
       "         [ 0.3224,  0.5988,  0.4061,  0.0191, -0.6554, -0.4988, -0.4904,  0.4171],\n",
       "         [ 0.7505, -0.8437,  0.2320,  0.6359,  0.6644, -0.6757,  0.7150, -0.5273],\n",
       "         [ 0.6253, -0.5925,  0.3651, -0.8507, -0.2453,  0.1922,  0.5763,  0.0040],\n",
       "         [ 0.1585, -0.4536,  0.5266, -0.1136,  0.3958,  0.6497, -0.0339,  0.1257],\n",
       "         [-0.1817,  0.4144, -0.0189,  0.7384,  0.4551, -0.4749,  0.2300, -0.8190],\n",
       "         [ 0.3894, -0.1281,  0.5374,  0.7976, -0.2333,  0.7361, -0.6987,  0.2290]],\n",
       "        requires_grad=True),\n",
       " Parameter containing:\n",
       " tensor([0., 0., 0., 0., 0., 0., 0.], requires_grad=True),\n",
       " Parameter containing:\n",
       " tensor([[ 0.4805, -0.1315,  0.1177,  0.2759,  0.6773,  0.7489, -0.7126],\n",
       "         [ 0.5513,  0.0807, -0.4848,  0.7515,  0.6366,  0.6224,  0.7316],\n",
       "         [-0.2072, -0.6456, -0.3484,  0.4301,  0.0587,  0.6509,  0.6361],\n",
       "         [ 0.7402, -0.0487, -0.7601, -0.4843, -0.5000, -0.8100, -0.4001],\n",
       "         [-0.5501,  0.6950, -0.8641, -0.5140, -0.6477,  0.3771, -0.6059],\n",
       "         [-0.3997, -0.3147,  0.1797, -0.0819,  0.4881, -0.1304, -0.1429]],\n",
       "        requires_grad=True),\n",
       " Parameter containing:\n",
       " tensor([0., 0., 0., 0., 0., 0.], requires_grad=True),\n",
       " Parameter containing:\n",
       " tensor([[-0.6124, -0.4079, -0.5881, -0.6988,  0.0722, -0.3104],\n",
       "         [ 0.7488,  0.7034, -0.3539, -0.7624, -0.1891,  0.2475],\n",
       "         [ 0.2953, -0.6834, -0.8844, -0.2082, -0.5559,  0.7016],\n",
       "         [-0.3491, -0.2230,  0.5719, -0.4133, -0.8525, -0.4408],\n",
       "         [ 0.0054,  0.2833, -0.2991,  0.4847, -0.3462, -0.0972]],\n",
       "        requires_grad=True),\n",
       " Parameter containing:\n",
       " tensor([0., 0., 0., 0., 0.], requires_grad=True),\n",
       " Parameter containing:\n",
       " tensor([[-0.2932, -0.3842,  0.4153, -0.4533, -0.4057],\n",
       "         [-0.0196, -0.8152,  0.0033,  0.5467, -0.0280],\n",
       "         [ 0.2136,  0.4143,  0.7930, -0.5177,  0.7648],\n",
       "         [-0.5990, -0.0223,  0.4752,  0.7607,  0.4186],\n",
       "         [-0.2367, -0.2306,  0.0471, -0.5823, -0.5485],\n",
       "         [ 0.8454,  0.2889, -0.9693, -0.9933,  0.7501],\n",
       "         [-1.0204,  0.5210, -0.4006,  0.1546, -0.1027]], requires_grad=True),\n",
       " Parameter containing:\n",
       " tensor([0., 0., 0., 0., 0., 0., 0.], requires_grad=True)]"
      ]
     },
     "execution_count": 97,
     "metadata": {},
     "output_type": "execute_result"
    }
   ],
   "source": [
    "list(mlp.parameters())"
   ]
  },
  {
   "cell_type": "code",
   "execution_count": 98,
   "metadata": {},
   "outputs": [
    {
     "data": {
      "text/plain": [
       "OrderedDict([('0.weight',\n",
       "              tensor([[ 0.5254,  0.1563,  0.4073, -0.4238, -0.4611,  0.4745, -0.4721, -0.4046,\n",
       "                        0.0309, -0.1514,  0.5128, -0.3894,  0.0888, -0.5222,  0.0327, -0.2393,\n",
       "                       -0.2331, -0.4002,  0.5146,  0.2501],\n",
       "                      [ 0.0864,  0.1765, -0.2520, -0.1480,  0.3296, -0.2804, -0.0099,  0.2843,\n",
       "                       -0.1035,  0.4085, -0.2743,  0.1129,  0.2098,  0.3242,  0.2360, -0.4926,\n",
       "                        0.2998,  0.2409, -0.2786,  0.5271],\n",
       "                      [ 0.2701,  0.0844, -0.1469, -0.1306,  0.4427,  0.0418, -0.1324, -0.4709,\n",
       "                        0.5132,  0.1400, -0.1024,  0.2705, -0.5034,  0.1209, -0.4951,  0.3939,\n",
       "                        0.0933,  0.1042, -0.0394, -0.3291],\n",
       "                      [ 0.4559, -0.2152,  0.1740, -0.1812,  0.0946, -0.4688,  0.2741,  0.0629,\n",
       "                        0.2609,  0.3315,  0.4681, -0.1700,  0.2243, -0.0414,  0.3478,  0.1238,\n",
       "                       -0.5217, -0.2124,  0.4387, -0.2533],\n",
       "                      [-0.4276,  0.0029, -0.1156,  0.0586,  0.0050, -0.0126, -0.2282, -0.3918,\n",
       "                        0.5331,  0.3120,  0.2338, -0.5439, -0.4633, -0.5392, -0.4744,  0.0401,\n",
       "                       -0.0321,  0.1283,  0.5242, -0.2032],\n",
       "                      [-0.3132, -0.0004, -0.0616, -0.2139, -0.4661, -0.2660, -0.2764, -0.3787,\n",
       "                        0.4042,  0.3035, -0.3308, -0.3507, -0.4926, -0.1554,  0.2348, -0.2434,\n",
       "                        0.2416, -0.4201, -0.3296,  0.0499],\n",
       "                      [-0.5410, -0.1370, -0.0144, -0.2694, -0.4439, -0.3445,  0.3187, -0.2700,\n",
       "                       -0.1954,  0.1313, -0.1688,  0.4962,  0.3512,  0.4929, -0.3982, -0.5197,\n",
       "                        0.0700,  0.4340, -0.1385, -0.2744],\n",
       "                      [-0.4124, -0.2313,  0.0218,  0.1989, -0.2425,  0.3052,  0.1832, -0.4718,\n",
       "                       -0.0342, -0.3442, -0.2694, -0.3499,  0.4435, -0.3797,  0.2422,  0.3393,\n",
       "                        0.4470, -0.3620,  0.2343, -0.1571]])),\n",
       "             ('0.bias', tensor([0., 0., 0., 0., 0., 0., 0., 0.])),\n",
       "             ('2.weight',\n",
       "              tensor([[-0.6775,  0.5818, -0.5056, -0.2452, -0.5316,  0.6579, -0.6591,  0.1506],\n",
       "                      [ 0.3224,  0.5988,  0.4061,  0.0191, -0.6554, -0.4988, -0.4904,  0.4171],\n",
       "                      [ 0.7505, -0.8437,  0.2320,  0.6359,  0.6644, -0.6757,  0.7150, -0.5273],\n",
       "                      [ 0.6253, -0.5925,  0.3651, -0.8507, -0.2453,  0.1922,  0.5763,  0.0040],\n",
       "                      [ 0.1585, -0.4536,  0.5266, -0.1136,  0.3958,  0.6497, -0.0339,  0.1257],\n",
       "                      [-0.1817,  0.4144, -0.0189,  0.7384,  0.4551, -0.4749,  0.2300, -0.8190],\n",
       "                      [ 0.3894, -0.1281,  0.5374,  0.7976, -0.2333,  0.7361, -0.6987,  0.2290]])),\n",
       "             ('2.bias', tensor([0., 0., 0., 0., 0., 0., 0.])),\n",
       "             ('4.weight',\n",
       "              tensor([[ 0.4805, -0.1315,  0.1177,  0.2759,  0.6773,  0.7489, -0.7126],\n",
       "                      [ 0.5513,  0.0807, -0.4848,  0.7515,  0.6366,  0.6224,  0.7316],\n",
       "                      [-0.2072, -0.6456, -0.3484,  0.4301,  0.0587,  0.6509,  0.6361],\n",
       "                      [ 0.7402, -0.0487, -0.7601, -0.4843, -0.5000, -0.8100, -0.4001],\n",
       "                      [-0.5501,  0.6950, -0.8641, -0.5140, -0.6477,  0.3771, -0.6059],\n",
       "                      [-0.3997, -0.3147,  0.1797, -0.0819,  0.4881, -0.1304, -0.1429]])),\n",
       "             ('4.bias', tensor([0., 0., 0., 0., 0., 0.])),\n",
       "             ('6.weight',\n",
       "              tensor([[-0.6124, -0.4079, -0.5881, -0.6988,  0.0722, -0.3104],\n",
       "                      [ 0.7488,  0.7034, -0.3539, -0.7624, -0.1891,  0.2475],\n",
       "                      [ 0.2953, -0.6834, -0.8844, -0.2082, -0.5559,  0.7016],\n",
       "                      [-0.3491, -0.2230,  0.5719, -0.4133, -0.8525, -0.4408],\n",
       "                      [ 0.0054,  0.2833, -0.2991,  0.4847, -0.3462, -0.0972]])),\n",
       "             ('6.bias', tensor([0., 0., 0., 0., 0.])),\n",
       "             ('8.weight',\n",
       "              tensor([[-0.2932, -0.3842,  0.4153, -0.4533, -0.4057],\n",
       "                      [-0.0196, -0.8152,  0.0033,  0.5467, -0.0280],\n",
       "                      [ 0.2136,  0.4143,  0.7930, -0.5177,  0.7648],\n",
       "                      [-0.5990, -0.0223,  0.4752,  0.7607,  0.4186],\n",
       "                      [-0.2367, -0.2306,  0.0471, -0.5823, -0.5485],\n",
       "                      [ 0.8454,  0.2889, -0.9693, -0.9933,  0.7501],\n",
       "                      [-1.0204,  0.5210, -0.4006,  0.1546, -0.1027]])),\n",
       "             ('8.bias', tensor([0., 0., 0., 0., 0., 0., 0.]))])"
      ]
     },
     "execution_count": 98,
     "metadata": {},
     "output_type": "execute_result"
    }
   ],
   "source": [
    "mlp.state_dict()"
   ]
  },
  {
   "cell_type": "code",
   "execution_count": 100,
   "metadata": {},
   "outputs": [],
   "source": [
    "from collections import namedtuple\n",
    "Transition = namedtuple('Transition',\n",
    "                        ('state', 'action', 'next_state', 'reward'))"
   ]
  },
  {
   "cell_type": "code",
   "execution_count": 106,
   "metadata": {},
   "outputs": [],
   "source": [
    "memory = []\n",
    "memory.append(Transition(np.random.random((10,10)), np.random.random((10)), np.random.random((10,10)), 2))"
   ]
  },
  {
   "cell_type": "code",
   "execution_count": 120,
   "metadata": {},
   "outputs": [],
   "source": [
    "import random\n",
    "from collections import namedtuple\n",
    "\n",
    "# Reference:\n",
    "# https://github.com/pytorch/tutorials/blob/master/intermediate_source/reinforcement_q_learning.py\n",
    "\n",
    "Transition = namedtuple(\"Transition\", \"observation action reward next_observation\")\n",
    "\n",
    "\n",
    "class Memory(object):\n",
    "    \"\"\"\n",
    "    Enables experience replay\n",
    "    \"\"\"\n",
    "    def __init__(self, capacity: int):\n",
    "        \"\"\"\n",
    "        :param capacity: max memory capacity\n",
    "        \"\"\"\n",
    "        self.capacity = capacity\n",
    "        self.memory = []\n",
    "        self.position = 0\n",
    "\n",
    "    def push(self, observation, action, reward, next_observation):\n",
    "        \"\"\"\n",
    "        Push a trajectory to memory\n",
    "        :param observation: current observation\n",
    "        :param action: agent action\n",
    "        :param reward: received reward\n",
    "        :param next_observation: observation at next time step\n",
    "        \"\"\"\n",
    "\n",
    "        assert observation.shape != next_observation.shape, \"observation space shapes do not match\"\n",
    "\n",
    "        if len(self.memory) < self.capacity:\n",
    "            self.memory.append(Transition(observation, action, reward, next_observation))\n",
    "        else:\n",
    "            self.memory[self.position].append(Transition(observation, action, reward, next_observation))\n",
    "            self.position = (self.position + 1) % self.capacity\n",
    "\n",
    "    def sample(self, batch_size: int):\n",
    "        \"\"\"\n",
    "\n",
    "        :param batch_size:\n",
    "        :return: sampled trajectories\n",
    "        \"\"\"\n",
    "        return random.sample(self.memory, batch_size)\n",
    "\n",
    "    def __len__(self):\n",
    "        return len(self.memory)\n"
   ]
  },
  {
   "cell_type": "code",
   "execution_count": 121,
   "metadata": {},
   "outputs": [],
   "source": [
    "mem = Memory(100)"
   ]
  },
  {
   "cell_type": "code",
   "execution_count": 122,
   "metadata": {},
   "outputs": [],
   "source": [
    "mem.push(np.random.random((2,2)), np.random.random((2)), np.random.random((2,2)), np.random.random((1)))\n",
    "mem.push(np.random.random((2,2)), np.random.random((2)), np.random.random((2,2)), np.random.random((1)))\n",
    "mem.push(np.random.random((2,2)), np.random.random((2)), np.random.random((2,2)), np.random.random((1)))"
   ]
  },
  {
   "cell_type": "code",
   "execution_count": 124,
   "metadata": {},
   "outputs": [
    {
     "data": {
      "text/plain": [
       "[Transition(observation=array([[0.74815739, 0.07167716],\n",
       "        [0.65015886, 0.31415404]]), action=array([0.19004682, 0.56775847]), reward=array([[0.34857276, 0.83995573],\n",
       "        [0.9458837 , 0.94466579]]), next_observation=array([0.90552869])),\n",
       " Transition(observation=array([[0.41245144, 0.29057312],\n",
       "        [0.13261959, 0.52315308]]), action=array([0.97653912, 0.42170304]), reward=array([[0.08164602, 0.05557822],\n",
       "        [0.74678752, 0.03081152]]), next_observation=array([0.83388901]))]"
      ]
     },
     "execution_count": 124,
     "metadata": {},
     "output_type": "execute_result"
    }
   ],
   "source": [
    "mem.sample(2)"
   ]
  },
  {
   "cell_type": "code",
   "execution_count": 150,
   "metadata": {},
   "outputs": [],
   "source": [
    "dis = Dirichlet(torch.tensor([0.5, 1, 10]))"
   ]
  },
  {
   "cell_type": "code",
   "execution_count": 151,
   "metadata": {},
   "outputs": [
    {
     "data": {
      "text/plain": [
       "tensor([0.0955, 0.3455, 0.5590])"
      ]
     },
     "execution_count": 151,
     "metadata": {},
     "output_type": "execute_result"
    }
   ],
   "source": [
    "dis.sample()"
   ]
  },
  {
   "cell_type": "code",
   "execution_count": 135,
   "metadata": {},
   "outputs": [
    {
     "data": {
      "text/plain": [
       "tensor([0.1429, 0.2857, 0.5714])"
      ]
     },
     "execution_count": 135,
     "metadata": {},
     "output_type": "execute_result"
    }
   ],
   "source": [
    "dis.mean"
   ]
  },
  {
   "cell_type": "code",
   "execution_count": 136,
   "metadata": {},
   "outputs": [
    {
     "data": {
      "text/plain": [
       "tensor([0.1429, 0.2857, 0.5714])"
      ]
     },
     "execution_count": 136,
     "metadata": {},
     "output_type": "execute_result"
    }
   ],
   "source": [
    "dis.mean"
   ]
  },
  {
   "cell_type": "code",
   "execution_count": 152,
   "metadata": {},
   "outputs": [
    {
     "data": {
      "text/plain": [
       "tensor(-0.5445)"
      ]
     },
     "execution_count": 152,
     "metadata": {},
     "output_type": "execute_result"
    }
   ],
   "source": [
    "dis.log_prob(torch.tensor([0.0064, 0.4796, 0.5141]))"
   ]
  },
  {
   "cell_type": "code",
   "execution_count": 184,
   "metadata": {},
   "outputs": [],
   "source": [
    "import torch\n",
    "import torch.nn as nn\n",
    "from torch.distributions import Dirichlet\n",
    "\n",
    "device = torch.device(\"cuda\" if torch.cuda.is_available() else \"cpu\")\n",
    "\n",
    "\n",
    "def init_weights(layer: nn.Module):\n",
    "    if type(layer) == nn.Linear:\n",
    "        torch.nn.init.kaiming_uniform_(layer.weight, nonlinearity='relu')\n",
    "        layer.bias.data.fill_(0.)\n",
    "\n",
    "\n",
    "def build_mlp(in_dim: tuple, out_dim: tuple, layers: list):\n",
    "    net = [nn.Linear(in_dim[0], layers[0])]\n",
    "\n",
    "    for i in range(len(layers) - 1):\n",
    "        net.append(nn.ReLU())\n",
    "        net.append(nn.Linear(layers[i], layers[i + 1]))\n",
    "\n",
    "    net.append(nn.ReLU())\n",
    "    net.append(nn.Linear(layers[-1], out_dim[0]))\n",
    "\n",
    "    net = nn.Sequential(*net).to(device)\n",
    "    net.apply(init_weights)\n",
    "\n",
    "    return net\n",
    "\n",
    "\n",
    "class Policy(nn.Module):\n",
    "    def __init__(self, observation_space: tuple, action_space: tuple, layers: list):\n",
    "        super(Policy, self).__init__()\n",
    "        self.network = build_mlp(\n",
    "            in_dim=observation_space,\n",
    "            out_dim=action_space,\n",
    "            layers=layers\n",
    "        )\n",
    "\n",
    "\n",
    "class DirichletPolicy(Policy):\n",
    "    def __init__(self, observation_space: tuple, action_space: tuple, layers: list):\n",
    "        super(DirichletPolicy, self).__init__(observation_space, action_space, layers)\n",
    "        self.distribution = None\n",
    "        self.action = None\n",
    "\n",
    "    def forward(self, observation):\n",
    "        alphas = self.network(observation)\n",
    "        self.distribution = Dirichlet(alphas)\n",
    "        self.action = self.distribution.sample()\n",
    "        return self.action\n",
    "\n",
    "    def log_prob(self):\n",
    "        # return the negative log probability\n",
    "        return self.distribution.log_prob(self.action)"
   ]
  },
  {
   "cell_type": "code",
   "execution_count": 179,
   "metadata": {},
   "outputs": [],
   "source": [
    "policy = DirichletPolicy((100,), (7,), [2,6,9])"
   ]
  },
  {
   "cell_type": "code",
   "execution_count": 180,
   "metadata": {},
   "outputs": [],
   "source": [
    "action = policy(torch.randn((100,)))"
   ]
  },
  {
   "cell_type": "code",
   "execution_count": 181,
   "metadata": {},
   "outputs": [
    {
     "data": {
      "text/plain": [
       "tensor(1.0000)"
      ]
     },
     "execution_count": 181,
     "metadata": {},
     "output_type": "execute_result"
    }
   ],
   "source": [
    "action.sum()"
   ]
  },
  {
   "cell_type": "code",
   "execution_count": 183,
   "metadata": {},
   "outputs": [
    {
     "data": {
      "text/plain": [
       "tensor(124.2491, grad_fn=<SubBackward0>)"
      ]
     },
     "execution_count": 183,
     "metadata": {},
     "output_type": "execute_result"
    }
   ],
   "source": [
    "policy.log_prob()"
   ]
  },
  {
   "cell_type": "code",
   "execution_count": 187,
   "metadata": {},
   "outputs": [
    {
     "data": {
      "text/plain": [
       "<bound method Module.eval of DirichletPolicy(\n",
       "  (network): Sequential(\n",
       "    (0): Linear(in_features=100, out_features=2, bias=True)\n",
       "    (1): ReLU()\n",
       "    (2): Linear(in_features=2, out_features=6, bias=True)\n",
       "    (3): ReLU()\n",
       "    (4): Linear(in_features=6, out_features=9, bias=True)\n",
       "    (5): ReLU()\n",
       "    (6): Linear(in_features=9, out_features=7, bias=True)\n",
       "  )\n",
       ")>"
      ]
     },
     "execution_count": 187,
     "metadata": {},
     "output_type": "execute_result"
    }
   ],
   "source": [
    "policy.eval()"
   ]
  },
  {
   "cell_type": "code",
   "execution_count": 188,
   "metadata": {},
   "outputs": [
    {
     "data": {
      "text/plain": [
       "DirichletPolicy(\n",
       "  (network): Sequential(\n",
       "    (0): Linear(in_features=100, out_features=2, bias=True)\n",
       "    (1): ReLU()\n",
       "    (2): Linear(in_features=2, out_features=6, bias=True)\n",
       "    (3): ReLU()\n",
       "    (4): Linear(in_features=6, out_features=9, bias=True)\n",
       "    (5): ReLU()\n",
       "    (6): Linear(in_features=9, out_features=7, bias=True)\n",
       "  )\n",
       ")"
      ]
     },
     "execution_count": 188,
     "metadata": {},
     "output_type": "execute_result"
    }
   ],
   "source": [
    "policy.train()"
   ]
  },
  {
   "cell_type": "code",
   "execution_count": 190,
   "metadata": {},
   "outputs": [
    {
     "data": {
      "text/plain": [
       "OrderedDict([('network.0.weight',\n",
       "              tensor([[ 0.1047, -0.0829, -0.2417, -0.0845, -0.1319,  0.0605, -0.0187,  0.0951,\n",
       "                       -0.2140,  0.1294, -0.1223,  0.1449, -0.1496,  0.0485, -0.1724,  0.1933,\n",
       "                        0.1885,  0.2406, -0.0942, -0.0636, -0.1179,  0.1168, -0.0126, -0.0495,\n",
       "                        0.1039,  0.1290, -0.2123,  0.0454,  0.1745,  0.0431, -0.0607,  0.0595,\n",
       "                       -0.1741, -0.0983,  0.0911, -0.0334,  0.2157,  0.1914, -0.2386, -0.0555,\n",
       "                        0.2364,  0.0490,  0.1988,  0.1315, -0.2406,  0.1786,  0.1634, -0.1098,\n",
       "                        0.0706,  0.0476, -0.1254, -0.0632, -0.1843, -0.1998, -0.1401, -0.0061,\n",
       "                       -0.1829, -0.1978, -0.0995,  0.2069,  0.1733,  0.0674,  0.0447, -0.1781,\n",
       "                       -0.1650,  0.0552, -0.1142, -0.2422,  0.0887, -0.1734,  0.1787,  0.0654,\n",
       "                        0.0573, -0.0845,  0.2118, -0.2348, -0.0912, -0.2367,  0.2066,  0.0823,\n",
       "                       -0.2141,  0.1562,  0.0652,  0.1626, -0.0007,  0.1269, -0.1061,  0.1024,\n",
       "                       -0.0026,  0.2212,  0.0465,  0.0077,  0.1448,  0.0485, -0.1014, -0.0783,\n",
       "                       -0.1320,  0.0231,  0.1701, -0.2406],\n",
       "                      [-0.1297,  0.2267, -0.1226,  0.2369,  0.1387,  0.2146,  0.0938, -0.1786,\n",
       "                        0.0177,  0.0173, -0.1973,  0.0005,  0.1887,  0.1046,  0.1990, -0.2232,\n",
       "                       -0.0516, -0.1141,  0.2054, -0.0435,  0.2237,  0.0552,  0.1977, -0.0007,\n",
       "                        0.1227,  0.1136, -0.2101,  0.0082,  0.1141,  0.2090,  0.1309, -0.0852,\n",
       "                       -0.1569,  0.1750,  0.1468, -0.0805, -0.1901,  0.1772, -0.0719,  0.0055,\n",
       "                       -0.1011,  0.1556,  0.1737,  0.0229,  0.1995, -0.1416,  0.0401,  0.1141,\n",
       "                       -0.1357,  0.2185,  0.1483,  0.2369, -0.1085,  0.1119,  0.2227,  0.0444,\n",
       "                       -0.2042, -0.0471,  0.0104, -0.1820, -0.0500, -0.1244,  0.0664,  0.1189,\n",
       "                        0.1543,  0.0783,  0.0954,  0.1733,  0.0524,  0.0995, -0.2228, -0.0083,\n",
       "                        0.2380, -0.1556,  0.1623,  0.0560, -0.2054,  0.1197, -0.0095, -0.0967,\n",
       "                        0.1389,  0.1545, -0.1320,  0.0308, -0.2377,  0.1877, -0.0053,  0.1324,\n",
       "                       -0.2194, -0.1799,  0.1858,  0.0794,  0.1840, -0.0816, -0.0434, -0.1327,\n",
       "                       -0.0390,  0.1320, -0.1925,  0.0509]])),\n",
       "             ('network.0.bias', tensor([0., 0.])),\n",
       "             ('network.2.weight', tensor([[ 0.0245, -0.7162],\n",
       "                      [ 1.7039,  1.6188],\n",
       "                      [-1.4324, -1.3732],\n",
       "                      [ 1.6717,  0.9324],\n",
       "                      [ 0.0127, -0.4441],\n",
       "                      [-1.2221,  1.3747]])),\n",
       "             ('network.2.bias', tensor([0., 0., 0., 0., 0., 0.])),\n",
       "             ('network.4.weight',\n",
       "              tensor([[-0.6805,  0.9251,  0.5189,  0.6597,  0.3012,  0.0964],\n",
       "                      [ 0.5899, -0.3091,  0.7346, -0.6173, -0.1365,  0.3135],\n",
       "                      [ 0.7626, -0.6482,  0.3965, -0.7968, -0.7687, -0.1864],\n",
       "                      [-0.7869,  0.3986, -0.3406, -0.5757,  0.7453,  0.1088],\n",
       "                      [ 0.8811,  0.5926,  0.3114,  0.3921,  0.0690,  0.3219],\n",
       "                      [-0.8250,  0.6481, -0.7755, -0.8874,  0.0314, -0.5852],\n",
       "                      [ 0.9398,  0.0605,  0.3483, -0.8930, -0.3929, -0.8393],\n",
       "                      [-0.1388,  0.2524,  0.4159,  0.0600, -0.6770, -0.5329],\n",
       "                      [ 0.8434,  0.4856, -0.5873,  0.9254, -0.3395, -0.2076]])),\n",
       "             ('network.4.bias', tensor([0., 0., 0., 0., 0., 0., 0., 0., 0.])),\n",
       "             ('network.6.weight',\n",
       "              tensor([[-0.0777,  0.4381,  0.2260,  0.2880, -0.3642,  0.1975, -0.6710,  0.5742,\n",
       "                       -0.3614],\n",
       "                      [-0.3290,  0.1550, -0.5220,  0.1091, -0.5860, -0.1519,  0.4592,  0.3361,\n",
       "                       -0.7128],\n",
       "                      [-0.7928, -0.5158,  0.7041,  0.6900,  0.5568,  0.0167, -0.1352, -0.4398,\n",
       "                        0.0213],\n",
       "                      [-0.6346, -0.8049,  0.6936, -0.7964,  0.1568, -0.3919, -0.6433, -0.3208,\n",
       "                        0.4591],\n",
       "                      [ 0.4062,  0.2126, -0.3371, -0.1057, -0.1447,  0.7520,  0.4816,  0.4402,\n",
       "                       -0.1059],\n",
       "                      [-0.4878,  0.2784,  0.2318, -0.7986, -0.0952, -0.3883,  0.8024,  0.0345,\n",
       "                       -0.2844],\n",
       "                      [ 0.0358, -0.7904,  0.0475,  0.3640, -0.7325,  0.6658,  0.7298,  0.0483,\n",
       "                        0.5729]])),\n",
       "             ('network.6.bias', tensor([0., 0., 0., 0., 0., 0., 0.]))])"
      ]
     },
     "execution_count": 190,
     "metadata": {},
     "output_type": "execute_result"
    }
   ],
   "source": [
    "policy.state_dict()"
   ]
  }
 ],
 "metadata": {
  "kernelspec": {
   "display_name": "Python [conda env:fast1]",
   "language": "python",
   "name": "conda-env-fast1-py"
  },
  "language_info": {
   "codemirror_mode": {
    "name": "ipython",
    "version": 3
   },
   "file_extension": ".py",
   "mimetype": "text/x-python",
   "name": "python",
   "nbconvert_exporter": "python",
   "pygments_lexer": "ipython3",
   "version": "3.7.0"
  }
 },
 "nbformat": 4,
 "nbformat_minor": 2
}
