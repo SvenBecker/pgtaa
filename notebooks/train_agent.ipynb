{
 "cells": [
  {
   "cell_type": "code",
   "execution_count": 1,
   "metadata": {
    "collapsed": true
   },
   "outputs": [],
   "source": [
    "import sys \n",
    "sys.path.append(\"../\")"
   ]
  },
  {
   "cell_type": "code",
   "execution_count": 2,
   "metadata": {},
   "outputs": [],
   "source": [
    "import torch\n",
    "import torch.nn as nn"
   ]
  },
  {
   "cell_type": "code",
   "execution_count": 82,
   "metadata": {},
   "outputs": [],
   "source": [
    "def winit(m):\n",
    "    classname = m.__class__.__name__\n",
    "    if classname.find(\"Norm\") != -1:\n",
    "        nn.init.uniform_(m.weight)\n",
    "        nn.init.zeros_(m.bias)\n",
    "    elif classname.find(\"GRU\") != -1:\n",
    "        for w in m.all_weights:\n",
    "            nn.init.zeros_(m[0].data)\n",
    "            nn.init.zeros_(m[1].data)\n",
    "            nn.init.uniform_(m[2].data)\n",
    "            nn.init.zeros_(m[3].data)"
   ]
  },
  {
   "cell_type": "code",
   "execution_count": 86,
   "metadata": {},
   "outputs": [],
   "source": [
    "gn = nn.Embedding(50, 20)\n",
    "bn = nn.BatchNorm2d(50)\n",
    "relu = nn.ReLU()\n",
    "cn = nn.Conv2d(100, 50, 3)\n",
    "\n",
    "# BatchNorm GroupNorm LayerNorm"
   ]
  },
  {
   "cell_type": "code",
   "execution_count": 87,
   "metadata": {},
   "outputs": [
    {
     "data": {
      "text/plain": [
       "'Embedding'"
      ]
     },
     "execution_count": 87,
     "metadata": {},
     "output_type": "execute_result"
    }
   ],
   "source": [
    "gn.__class__.__name__"
   ]
  },
  {
   "cell_type": "code",
   "execution_count": 94,
   "metadata": {},
   "outputs": [
    {
     "data": {
      "text/plain": [
       "torch.Size([50, 20])"
      ]
     },
     "execution_count": 94,
     "metadata": {},
     "output_type": "execute_result"
    }
   ],
   "source": [
    "gn.weight.data.size()"
   ]
  },
  {
   "cell_type": "code",
   "execution_count": 83,
   "metadata": {},
   "outputs": [],
   "source": [
    "model = nn.Sequential(*[rn, gn, relu])"
   ]
  },
  {
   "cell_type": "code",
   "execution_count": 69,
   "metadata": {},
   "outputs": [],
   "source": [
    "rn = nn.LSTM(100, 50, 3)"
   ]
  },
  {
   "cell_type": "code",
   "execution_count": 81,
   "metadata": {},
   "outputs": [
    {
     "data": {
      "text/plain": [
       "tensor([[ 0.0354, -0.0006,  0.0060,  ...,  0.0812,  0.1178,  0.0274],\n",
       "        [ 0.0372,  0.0336,  0.0976,  ...,  0.1332,  0.0805,  0.1171],\n",
       "        [ 0.0868,  0.1372,  0.0548,  ..., -0.0350,  0.1162, -0.1342],\n",
       "        ...,\n",
       "        [ 0.1218,  0.1092,  0.0858,  ...,  0.1023,  0.0617,  0.0242],\n",
       "        [ 0.1101,  0.1058,  0.1374,  ...,  0.0470,  0.0639,  0.1042],\n",
       "        [ 0.1027,  0.1238, -0.0198,  ..., -0.1163,  0.0175,  0.1261]])"
      ]
     },
     "execution_count": 81,
     "metadata": {},
     "output_type": "execute_result"
    }
   ],
   "source": [
    "rn.all_weights[0][1].data"
   ]
  },
  {
   "cell_type": "code",
   "execution_count": 84,
   "metadata": {},
   "outputs": [
    {
     "data": {
      "text/plain": [
       "Sequential(\n",
       "  (0): LSTM(100, 50, num_layers=3)\n",
       "  (1): Bilinear(in1_features=50, in2_features=50, out_features=20, bias=True)\n",
       "  (2): ReLU()\n",
       ")"
      ]
     },
     "execution_count": 84,
     "metadata": {},
     "output_type": "execute_result"
    }
   ],
   "source": [
    "model"
   ]
  },
  {
   "cell_type": "code",
   "execution_count": 85,
   "metadata": {},
   "outputs": [
    {
     "data": {
      "text/plain": [
       "Sequential(\n",
       "  (0): LSTM(100, 50, num_layers=3)\n",
       "  (1): Bilinear(in1_features=50, in2_features=50, out_features=20, bias=True)\n",
       "  (2): ReLU()\n",
       ")"
      ]
     },
     "execution_count": 85,
     "metadata": {},
     "output_type": "execute_result"
    }
   ],
   "source": [
    "model.apply(winit)"
   ]
  }
 ],
 "metadata": {
  "kernelspec": {
   "display_name": "Python [conda env:fast1]",
   "language": "python",
   "name": "conda-env-fast1-py"
  },
  "language_info": {
   "codemirror_mode": {
    "name": "ipython",
    "version": 3
   },
   "file_extension": ".py",
   "mimetype": "text/x-python",
   "name": "python",
   "nbconvert_exporter": "python",
   "pygments_lexer": "ipython3",
   "version": "3.6.6"
  }
 },
 "nbformat": 4,
 "nbformat_minor": 2
}
