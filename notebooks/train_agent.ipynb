{
 "cells": [
  {
   "cell_type": "code",
   "execution_count": 1,
   "metadata": {
    "collapsed": true
   },
   "outputs": [],
   "source": [
    "import sys \n",
    "sys.path.append(\"../\")\n",
    "\n",
    "import pandas as pd  \n",
    "import numpy as np\n",
    "from tqdm import tqdm\n",
    "from IPython.display import display\n",
    "\n",
    "import torch\n",
    "import torch.nn as nn\n",
    "import torch.nn.functional as F\n",
    "from pgtaa.core.predictor_preproc import dl_from_spec"
   ]
  },
  {
   "cell_type": "code",
   "execution_count": 26,
   "metadata": {},
   "outputs": [
    {
     "name": "stdout",
     "output_type": "stream",
     "text": [
      "Epoch 1: 100%|██████████████████████████████████████████████████████████████████████████████████████████████████████████████████████████████████████████████████████████████████████████████████████████████████████████████████████████████████████████████████████████████████████████████████████████████████████████████████| 37/37 [00:03<00:00, 11.99it/s]\n",
      "Train Loss: 0.007633544843801862  Validation Loss: 0.011227294668233601\n",
      "\n",
      "Epoch 2: 100%|██████████████████████████████████████████████████████████████████████████████████████████████████████████████████████████████████████████████████████████████████████████████████████████████████████████████████████████████████████████████████████████████████████████████████████████████████████████████████| 37/37 [00:03<00:00, 12.06it/s]\n",
      "Train Loss: 0.001265337744713915  Validation Loss: 0.0019773088744775877\n",
      "\n",
      "Epoch 3: 100%|██████████████████████████████████████████████████████████████████████████████████████████████████████████████████████████████████████████████████████████████████████████████████████████████████████████████████████████████████████████████████████████████████████████████████████████████████████████████████| 37/37 [00:03<00:00, 11.93it/s]\n",
      "Train Loss: 0.0009992709201385387  Validation Loss: 0.00167194665360053\n",
      "\n",
      "Epoch 4: 100%|██████████████████████████████████████████████████████████████████████████████████████████████████████████████████████████████████████████████████████████████████████████████████████████████████████████████████████████████████████████████████████████████████████████████████████████████████████████████████| 37/37 [00:03<00:00, 12.08it/s]\n",
      "Train Loss: 0.0009668100089621137  Validation Loss: 0.0011135558452583282\n",
      "\n",
      "Epoch 5: 100%|██████████████████████████████████████████████████████████████████████████████████████████████████████████████████████████████████████████████████████████████████████████████████████████████████████████████████████████████████████████████████████████████████████████████████████████████████████████████████| 37/37 [00:03<00:00, 11.99it/s]\n",
      "Train Loss: 0.0009483069454828454  Validation Loss: 0.0008817723805843038\n",
      "\n",
      "Epoch 6: 100%|██████████████████████████████████████████████████████████████████████████████████████████████████████████████████████████████████████████████████████████████████████████████████████████████████████████████████████████████████████████████████████████████████████████████████████████████████████████████████| 37/37 [00:03<00:00, 12.02it/s]\n",
      "Train Loss: 0.0009509721301932171  Validation Loss: 0.0008707073827786507\n",
      "\n",
      "Epoch 7: 100%|██████████████████████████████████████████████████████████████████████████████████████████████████████████████████████████████████████████████████████████████████████████████████████████████████████████████████████████████████████████████████████████████████████████████████████████████████████████████████| 37/37 [00:03<00:00, 11.97it/s]\n",
      "Train Loss: 0.0009388527905268621  Validation Loss: 0.0007866971257139574\n",
      "\n",
      "Epoch 8: 100%|██████████████████████████████████████████████████████████████████████████████████████████████████████████████████████████████████████████████████████████████████████████████████████████████████████████████████████████████████████████████████████████████████████████████████████████████████████████████████| 37/37 [00:03<00:00, 11.89it/s]\n",
      "Train Loss: 0.0009322889459673859  Validation Loss: 0.0006905654164127258\n",
      "\n",
      "Epoch 9: 100%|██████████████████████████████████████████████████████████████████████████████████████████████████████████████████████████████████████████████████████████████████████████████████████████████████████████████████████████████████████████████████████████████████████████████████████████████████████████████████| 37/37 [00:03<00:00, 12.06it/s]\n",
      "Train Loss: 0.0009355632295156677  Validation Loss: 0.0007872464120896469\n",
      "\n",
      "Epoch 10: 100%|█████████████████████████████████████████████████████████████████████████████████████████████████████████████████████████████████████████████████████████████████████████████████████████████████████████████████████████████████████████████████████████████████████████████████████████████████████████████████| 37/37 [00:03<00:00, 12.03it/s]\n",
      "Train Loss: 0.0009307737758286834  Validation Loss: 0.0007631614427403256\n",
      "\n",
      "Epoch 11: 100%|█████████████████████████████████████████████████████████████████████████████████████████████████████████████████████████████████████████████████████████████████████████████████████████████████████████████████████████████████████████████████████████████████████████████████████████████████████████████████| 37/37 [00:03<00:00, 11.90it/s]\n",
      "Train Loss: 0.0009330372944207164  Validation Loss: 0.0007254693592213449\n",
      "\n",
      "Epoch 12: 100%|█████████████████████████████████████████████████████████████████████████████████████████████████████████████████████████████████████████████████████████████████████████████████████████████████████████████████████████████████████████████████████████████████████████████████████████████████████████████████| 37/37 [00:03<00:00, 11.85it/s]\n",
      "Train Loss: 0.0009321939678706514  Validation Loss: 0.0006853949694489242\n",
      "\n",
      "Epoch 13: 100%|█████████████████████████████████████████████████████████████████████████████████████████████████████████████████████████████████████████████████████████████████████████████████████████████████████████████████████████████████████████████████████████████████████████████████████████████████████████████████| 37/37 [00:03<00:00, 11.96it/s]\n",
      "Train Loss: 0.000931471277466988  Validation Loss: 0.0006489741053996783\n",
      "\n",
      "Epoch 14: 100%|█████████████████████████████████████████████████████████████████████████████████████████████████████████████████████████████████████████████████████████████████████████████████████████████████████████████████████████████████████████████████████████████████████████████████████████████████████████████████| 37/37 [00:03<00:00, 11.96it/s]\n",
      "Train Loss: 0.0009289174757984339  Validation Loss: 0.000698195598462723\n",
      "\n",
      "Epoch 15: 100%|█████████████████████████████████████████████████████████████████████████████████████████████████████████████████████████████████████████████████████████████████████████████████████████████████████████████████████████████████████████████████████████████████████████████████████████████████████████████████| 37/37 [00:03<00:00, 11.91it/s]\n",
      "Train Loss: 0.0009248972906760859  Validation Loss: 0.0006290895600859334\n",
      "\n",
      "Epoch 16: 100%|█████████████████████████████████████████████████████████████████████████████████████████████████████████████████████████████████████████████████████████████████████████████████████████████████████████████████████████████████████████████████████████████████████████████████████████████████████████████████| 37/37 [00:03<00:00, 11.92it/s]\n",
      "Train Loss: 0.000926812230888332  Validation Loss: 0.0006858781543974373\n",
      "\n",
      "Epoch 17: 100%|█████████████████████████████████████████████████████████████████████████████████████████████████████████████████████████████████████████████████████████████████████████████████████████████████████████████████████████████████████████████████████████████████████████████████████████████████████████████████| 37/37 [00:03<00:00, 11.84it/s]\n",
      "Train Loss: 0.0009362913594223567  Validation Loss: 0.0006313474538778097\n",
      "\n",
      "Epoch 18: 100%|█████████████████████████████████████████████████████████████████████████████████████████████████████████████████████████████████████████████████████████████████████████████████████████████████████████████████████████████████████████████████████████████████████████████████████████████████████████████████| 37/37 [00:03<00:00, 11.85it/s]\n",
      "Train Loss: 0.000932949951364938  Validation Loss: 0.0006970276349186856\n",
      "\n",
      "Epoch 19: 100%|█████████████████████████████████████████████████████████████████████████████████████████████████████████████████████████████████████████████████████████████████████████████████████████████████████████████████████████████████████████████████████████████████████████████████████████████████████████████████| 37/37 [00:03<00:00, 11.95it/s]\n",
      "Train Loss: 0.0009233792210998796  Validation Loss: 0.0006228925952832376\n",
      "\n",
      "Epoch 20: 100%|█████████████████████████████████████████████████████████████████████████████████████████████████████████████████████████████████████████████████████████████████████████████████████████████████████████████████████████████████████████████████████████████████████████████████████████████████████████████████| 37/37 [00:03<00:00, 11.99it/s]\n",
      "Train Loss: 0.0009257893215726969  Validation Loss: 0.0006094161902190024\n",
      "\n",
      "Epoch 21: 100%|█████████████████████████████████████████████████████████████████████████████████████████████████████████████████████████████████████████████████████████████████████████████████████████████████████████████████████████████████████████████████████████████████████████████████████████████████████████████████| 37/37 [00:03<00:00, 11.82it/s]\n",
      "Train Loss: 0.000918610417848742  Validation Loss: 0.0006221714116689744\n",
      "\n",
      "Epoch 22: 100%|█████████████████████████████████████████████████████████████████████████████████████████████████████████████████████████████████████████████████████████████████████████████████████████████████████████████████████████████████████████████████████████████████████████████████████████████████████████████████| 37/37 [00:03<00:00, 11.90it/s]\n",
      "Train Loss: 0.0009262397527506629  Validation Loss: 0.0006603466488491322\n",
      "\n",
      "Epoch 23: 100%|█████████████████████████████████████████████████████████████████████████████████████████████████████████████████████████████████████████████████████████████████████████████████████████████████████████████████████████████████████████████████████████████████████████████████████████████████████████████████| 37/37 [00:03<00:00,  1.04it/s]\n",
      "Train Loss: 0.0009299090903833436  Validation Loss: 0.0005319719369711669\n",
      "\n",
      "Epoch 24: 100%|█████████████████████████████████████████████████████████████████████████████████████████████████████████████████████████████████████████████████████████████████████████████████████████████████████████████████████████████████████████████████████████████████████████████████████████████████████████████████| 37/37 [00:03<00:00, 11.93it/s]\n",
      "Train Loss: 0.0009303403206363011  Validation Loss: 0.0006197130910544472\n",
      "\n",
      "Epoch 25: 100%|█████████████████████████████████████████████████████████████████████████████████████████████████████████████████████████████████████████████████████████████████████████████████████████████████████████████████████████████████████████████████████████████████████████████████████████████████████████████████| 37/37 [00:03<00:00, 11.73it/s]\n",
      "Train Loss: 0.0008976013119280969  Validation Loss: 0.0005202744983610068\n",
      "\n",
      "Epoch 26: 100%|█████████████████████████████████████████████████████████████████████████████████████████████████████████████████████████████████████████████████████████████████████████████████████████████████████████████████████████████████████████████████████████████████████████████████████████████████████████████████| 37/37 [00:03<00:00, 11.93it/s]\n",
      "Train Loss: 0.0009226465821735338  Validation Loss: 0.0005746648839259518\n",
      "\n",
      "Epoch 27: 100%|█████████████████████████████████████████████████████████████████████████████████████████████████████████████████████████████████████████████████████████████████████████████████████████████████████████████████████████████████████████████████████████████████████████████████████████████████████████████████| 37/37 [00:03<00:00, 11.92it/s]\n",
      "Train Loss: 0.0009251765225733507  Validation Loss: 0.0005536518861589709\n",
      "\n",
      "Epoch 28: 100%|█████████████████████████████████████████████████████████████████████████████████████████████████████████████████████████████████████████████████████████████████████████████████████████████████████████████████████████████████████████████████████████████████████████████████████████████████████████████████| 37/37 [00:03<00:00, 11.99it/s]\n",
      "Train Loss: 0.0009255178869376156  Validation Loss: 0.0005513353910882213\n",
      "\n",
      "Epoch 29: 100%|█████████████████████████████████████████████████████████████████████████████████████████████████████████████████████████████████████████████████████████████████████████████████████████████████████████████████████████████████████████████████████████████████████████████████████████████████████████████████| 37/37 [00:03<00:00, 11.89it/s]\n",
      "Train Loss: 0.0009243221649197328  Validation Loss: 0.0005526144437187641\n",
      "\n",
      "Epoch 30: 100%|█████████████████████████████████████████████████████████████████████████████████████████████████████████████████████████████████████████████████████████████████████████████████████████████████████████████████████████████████████████████████████████████████████████████████████████████████████████████████| 37/37 [00:03<00:00, 11.96it/s]\n",
      "Train Loss: 0.0009400914923824369  Validation Loss: 0.0005406530987306258\n",
      "\n",
      "Finished training\n"
     ]
    }
   ],
   "source": [
    "#from sklearn.svm import SVR\n",
    "#from sklearn.ensemble import RandomForestRegressor\n",
    "#from sklearn.linear_model import SGDRegressor\n",
    "#from sklearn.manifold import TSNE\n",
    "#from sklearn.externals import joblib \n",
    "\n",
    "# Linear network\n",
    "class PredDense(nn.Module):\n",
    "    def __init__(self, input_dim=3200, hidden_dim=(512, 128, 32), output_dim=8, dropout=0.6):\n",
    "        super(PredDense, self).__init__()\n",
    "        self.lin1 = nn.Linear(input_dim, hidden_dim[0])\n",
    "        self.lin2 = nn.Linear(hidden_dim[0], hidden_dim[1])\n",
    "        self.lin3 = nn.Linear(hidden_dim[1], hidden_dim[2])\n",
    "        self.lin = nn.Linear(hidden_dim[2], output_dim, bias=False)\n",
    "        self.relu = nn.ReLU(inplace=False)\n",
    "        self.dropout = nn.Dropout(p=dropout, inplace=False)\n",
    "    \n",
    "    def forward(self, x):\n",
    "        x = self.lin1(x)\n",
    "        x = self.relu(x)\n",
    "        x = self.dropout(x)\n",
    "        x = self.lin2(x)\n",
    "        x = self.relu(x)\n",
    "        x = self.dropout(x)\n",
    "        x = self.lin3(x)\n",
    "        x = self.relu(x)\n",
    "        x = self.lin(x)\n",
    "        return x\n",
    "    \n",
    "net = PredDense().double()\n",
    "crit = nn.MSELoss()\n",
    "opt = torch.optim.Adam(net.parameters(), lr=1e-3)   \n",
    "\n",
    "torch.backends.cudnn.benchmark = True\n",
    "\n",
    "def fit(model, criterion, optimizer, batch_size: int=64, epochs: int=30, device = torch.device('cuda:0' if torch.cuda.is_available() else 'cpu')):\n",
    "    model.to(device)\n",
    "    dl_train, dl_valid = dl_from_spec(batch_size=batch_size, num_workers=4)\n",
    "    for epoch in range(epochs):\n",
    "        train_loss = 0.0\n",
    "        val_loss = 0.0\n",
    "        pbar = tqdm(dl_train, file=sys.stdout)\n",
    "        for i, data in enumerate(pbar):\n",
    "            pbar.set_description(\"Epoch %s\" % str(epoch + 1))\n",
    "            inputs, label = data[0].to(device), data[1].to(device)\n",
    "\n",
    "            # zero the parameter gradients\n",
    "            optimizer.zero_grad()\n",
    "\n",
    "            # forward + backward + optimize\n",
    "            outputs = model(inputs.view(batch_size,-1))\n",
    "            loss = criterion(outputs, label)\n",
    "            loss.backward()\n",
    "            optimizer.step()\n",
    "\n",
    "            train_loss += loss.item()\n",
    "\n",
    "        # validation\n",
    "        with torch.set_grad_enabled(False):\n",
    "            for j, vdata in enumerate(dl_valid):\n",
    "                vinput, vlabel = vdata[0].to(device), vdata[1].to(device)\n",
    "                outputs = model(vinput.view(1, -1))\n",
    "                loss = criterion(outputs, vlabel)\n",
    "                val_loss += loss.item()\n",
    "\n",
    "        print(f\"Train Loss: {train_loss / (i + 1)}  Validation Loss: {val_loss / (j + 1)}\\n\")\n",
    "        #pbar.set_postfix(dict(t_loss=(train_loss / (i + 1)), v_loss=(val_loss / (j + 1)))\n",
    "        train_loss = 0.0\n",
    "        val_loss = 0.0\n",
    "\n",
    "    print(\"Finished training\")\n",
    "    \n",
    "fit(net, crit, opt)"
   ]
  },
  {
   "cell_type": "code",
   "execution_count": 21,
   "metadata": {},
   "outputs": [
    {
     "data": {
      "text/plain": [
       "True"
      ]
     },
     "execution_count": 21,
     "metadata": {},
     "output_type": "execute_result"
    }
   ],
   "source": [
    "isinstance(opt, torch.optim.Optimizer)"
   ]
  },
  {
   "cell_type": "code",
   "execution_count": 32,
   "metadata": {},
   "outputs": [],
   "source": [
    "# Sklearn Action!!!\n",
    "\n",
    "import sklearn\n",
    "from sklearn.ensemble import RandomForestRegressor, GradientBoostingRegressor"
   ]
  },
  {
   "cell_type": "code",
   "execution_count": 33,
   "metadata": {},
   "outputs": [],
   "source": [
    "gbr = GradientBoostingRegressor(learning_rate=0.01, criterion=\"mse\", validation_fraction=0)"
   ]
  },
  {
   "cell_type": "code",
   "execution_count": 70,
   "metadata": {},
   "outputs": [
    {
     "data": {
      "text/plain": [
       "GradientBoostingRegressor(alpha=0.9, criterion='mse', init=None,\n",
       "             learning_rate=0.01, loss='ls', max_depth=3, max_features=None,\n",
       "             max_leaf_nodes=None, min_impurity_decrease=0.0,\n",
       "             min_impurity_split=None, min_samples_leaf=1,\n",
       "             min_samples_split=2, min_weight_fraction_leaf=0.0,\n",
       "             n_estimators=100, n_iter_no_change=None, presort='auto',\n",
       "             random_state=None, subsample=1.0, tol=0.0001,\n",
       "             validation_fraction=0, verbose=0, warm_start=False)"
      ]
     },
     "execution_count": 70,
     "metadata": {},
     "output_type": "execute_result"
    }
   ],
   "source": [
    "dl_train, dl_valid = dl_from_spec(batch_size=1, num_workers=4)\n",
    "np.array(dl_train.dataset[:][1].data)[:,1].shape\n",
    "gbr.fit(np.array(dl_train.dataset[:][0].data).reshape(len(dl_train),-1), np.array(dl_train.dataset[:][1].data)[:,1])"
   ]
  },
  {
   "cell_type": "code",
   "execution_count": 69,
   "metadata": {},
   "outputs": [
    {
     "data": {
      "text/plain": [
       "(2392, 3200)"
      ]
     },
     "execution_count": 69,
     "metadata": {},
     "output_type": "execute_result"
    }
   ],
   "source": [
    "np.array(dl_train.dataset[:][0].data).reshape(len(dl_train),-1).shape"
   ]
  },
  {
   "cell_type": "code",
   "execution_count": 74,
   "metadata": {},
   "outputs": [
    {
     "ename": "ValueError",
     "evalue": "cannot reshape array of size 1660800 into shape (2392,newaxis)",
     "output_type": "error",
     "traceback": [
      "\u001b[1;31m---------------------------------------------------------------------------\u001b[0m",
      "\u001b[1;31mValueError\u001b[0m                                Traceback (most recent call last)",
      "\u001b[1;32m<ipython-input-74-1a35b0d089b5>\u001b[0m in \u001b[0;36m<module>\u001b[1;34m\u001b[0m\n\u001b[1;32m----> 1\u001b[1;33m \u001b[0mgbr\u001b[0m\u001b[1;33m.\u001b[0m\u001b[0mpredict\u001b[0m\u001b[1;33m(\u001b[0m\u001b[0mnp\u001b[0m\u001b[1;33m.\u001b[0m\u001b[0marray\u001b[0m\u001b[1;33m(\u001b[0m\u001b[0mdl_valid\u001b[0m\u001b[1;33m.\u001b[0m\u001b[0mdataset\u001b[0m\u001b[1;33m[\u001b[0m\u001b[1;33m:\u001b[0m\u001b[1;33m]\u001b[0m\u001b[1;33m[\u001b[0m\u001b[1;36m0\u001b[0m\u001b[1;33m]\u001b[0m\u001b[1;33m.\u001b[0m\u001b[0mdata\u001b[0m\u001b[1;33m)\u001b[0m\u001b[1;33m.\u001b[0m\u001b[0mreshape\u001b[0m\u001b[1;33m(\u001b[0m\u001b[0mlen\u001b[0m\u001b[1;33m(\u001b[0m\u001b[0mdl_train\u001b[0m\u001b[1;33m)\u001b[0m\u001b[1;33m,\u001b[0m\u001b[1;33m-\u001b[0m\u001b[1;36m1\u001b[0m\u001b[1;33m)\u001b[0m\u001b[1;33m,\u001b[0m \u001b[0mnp\u001b[0m\u001b[1;33m.\u001b[0m\u001b[0marray\u001b[0m\u001b[1;33m(\u001b[0m\u001b[0mdl_valid\u001b[0m\u001b[1;33m.\u001b[0m\u001b[0mdataset\u001b[0m\u001b[1;33m[\u001b[0m\u001b[1;33m:\u001b[0m\u001b[1;33m]\u001b[0m\u001b[1;33m[\u001b[0m\u001b[1;36m1\u001b[0m\u001b[1;33m]\u001b[0m\u001b[1;33m.\u001b[0m\u001b[0mdata\u001b[0m\u001b[1;33m)\u001b[0m\u001b[1;33m[\u001b[0m\u001b[1;33m:\u001b[0m\u001b[1;33m,\u001b[0m\u001b[1;36m1\u001b[0m\u001b[1;33m]\u001b[0m\u001b[1;33m)\u001b[0m\u001b[1;33m\u001b[0m\u001b[0m\n\u001b[0m",
      "\u001b[1;31mValueError\u001b[0m: cannot reshape array of size 1660800 into shape (2392,newaxis)"
     ]
    }
   ],
   "source": [
    "gbr.predict(np.array(dl_valid.dataset[:][0].data).reshape(len(dl_train),-1), np.array(dl_valid.dataset[:][1].data)[:,1])"
   ]
  },
  {
   "cell_type": "code",
   "execution_count": 219,
   "metadata": {},
   "outputs": [],
   "source": [
    "# Regression metrices\n",
    "import numpy as np\n",
    "from sklearn.metrics import cohen_kappa_score, hinge_loss\n",
    "import torch.nn.functional as F\n",
    "from torch import Tensor\n",
    "\n",
    "__all__ = ['error_rate', 'accuracy', 'accuracy_thresh', 'dice', 'exp_rmspe', 'fbeta']\n",
    "\n",
    "def mae(pred: Tensor, targ: Tensor):\n",
    "    \"Mean absolute error between `pred` and `targ`.\"\n",
    "    return torch.abs(targ - pred).mean()\n",
    "\n",
    "def mse(pred:Tensor, targ:Tensor):\n",
    "    \"Mean squared error between `pred` and `targ`.\"\n",
    "    diff = (targ - pred) ** 2\n",
    "    return diff.mean()\n",
    "\n",
    "def rmse(pred:Tensor, targ:Tensor):\n",
    "    \"Root mean squared error between `pred` and `targ`.\"\n",
    "    return torch.sqrt(mse(pred, targ))\n",
    "\n",
    "def explained_variance(pred: Tensor, targ: Tensor):\n",
    "    \"Explained variance score between `pred` and `targ`.\"\n",
    "    var_pct = torch.var(targ - pred) / torch.var(targ)\n",
    "    return 1 - var_pct\n",
    "\n",
    "def msle(pred: Tensor, targ: Tensor):\n",
    "    \"Mean squared logarithmic error between `pred` and `targ`.\"\n",
    "    targ = torch.log(1 + targ)\n",
    "    pred = torch.log(1 + pred)\n",
    "    diff = (targ - pred) ** 2\n",
    "    return diff.mean()\n",
    "\n",
    "def r2_score(pred: Tensor, targ: Tensor):\n",
    "    \"R2 score (coefficient of determination) between `pred` and `targ`.\"\n",
    "    u = torch.sum((targ - pred) ** 2)\n",
    "    d = torch.sum((targ - targ.mean()) ** 2)\n",
    "    return 1 - u / d"
   ]
  },
  {
   "cell_type": "code",
   "execution_count": 103,
   "metadata": {},
   "outputs": [
    {
     "data": {
      "text/plain": [
       "tensor(-0.6481)"
      ]
     },
     "execution_count": 103,
     "metadata": {},
     "output_type": "execute_result"
    }
   ],
   "source": [
    "pred = torch.rand(10)\n",
    "targ = torch.rand(10)\n",
    "r2_score(pred, targ)"
   ]
  },
  {
   "cell_type": "code",
   "execution_count": 253,
   "metadata": {},
   "outputs": [],
   "source": [
    "# Classification metrices\n",
    "\n",
    "def accuracy(input:Tensor, targs: Tensor):\n",
    "    \"Compute accuracy with `targs` when `input` is bs * n_classes.\"\n",
    "    n = targs.shape[0]\n",
    "    input = input.argmax(dim=-1).view(n,-1)\n",
    "    targs = targs.view(n,-1)\n",
    "    return (input == targs).float().mean()\n",
    "\n",
    "def accuracy_balanced(input: Tensor, targs: Tensor, clw: list=None):\n",
    "    \"Balanced accuracy score between `input` and `targs` w.r.t. class label weights `cw`.\"\n",
    "    n = targs.shape[0]\n",
    "    if not cw:\n",
    "        cw = [1 for _ in range(n)]\n",
    "    clw = Tensor(clw).view(1,-1).transpose(1, 0)\n",
    "    input = input.argmax(dim=-1).view(n,-1)\n",
    "    targs = targs.view(n,-1)\n",
    "    clw = clw / (torch.sum((input == targs).float() * clw))\n",
    "    return torch.sum((input == targs).float() * clw) / clw.sum()\n",
    "\n",
    "def kappa_score(pred: Tensor, rater: Tensor):\n",
    "    \"Computes the rate of agreement (Cohens Kappa) between `pred` and `rater`\"\n",
    "    n = pred.shape[-1]\n",
    "    c = confusion_matrix(pred, rater).float()\n",
    "    sum0 = c.sum(0)\n",
    "    sum1 = c.sum(1)\n",
    "    expected = torch.einsum('i,j->ij', (sum0, sum1)) / torch.sum(sum0)\n",
    "    w = torch.ones((n, n))\n",
    "    idx = torch.arange(0, n)\n",
    "    w[idx, idx] = 0\n",
    "    k = torch.sum(w * c) / torch.sum(w * expected)\n",
    "    return 1 - k\n",
    "\n",
    "def confusion_matrix(input: Tensor, targs: Tensor):\n",
    "    \"Computes the confusion matrix\"\n",
    "    x = torch.arange(0, input.shape[-1])\n",
    "    input = input.argmax(dim=-1).view(-1)\n",
    "    cm = ((input==x[:, None]) & (targs==x[:, None, None])).sum(2)\n",
    "    return cm\n",
    "\n",
    "def top_k_accuracy(input: Tensor, targs: Tensor, k: int=5):\n",
    "    \"Computes the Top-k accuracy (target is in the top k predictions)\"\n",
    "    n = targs.shape[0]\n",
    "    input = input.topk(k=k, dim=-1)[1].view(n, -1)\n",
    "    targs = targs.view(n,-1)\n",
    "    return (input == targs).sum(dim=1).float().mean()\n",
    "\n",
    "\n",
    "def mean_class_accuracy(input: Tensor, targs: Tensor):\n",
    "    \"Computes the accuracy for each class label ->Rank1Tensor\"\n",
    "    x = torch.arange(0, input.shape[-1])\n",
    "    targs = targs==x[:,None]\n",
    "    input = input.argmax(-1)==x[:,None]\n",
    "    label_sum = targs.sum(dim=1).float()\n",
    "    eq = targs.float() * input.float()\n",
    "    return eq.sum(1) / label_sum"
   ]
  },
  {
   "cell_type": "code",
   "execution_count": 136,
   "metadata": {},
   "outputs": [],
   "source": [
    "def make_pred_target(batch_size=100, nb_targets=5, clas=True):    \n",
    "    if clas:\n",
    "        pred = torch.rand(batch_size, nb_targets)\n",
    "        targ = torch.randint(0, nb_targets, (batch_size,)).long()\n",
    "    else:\n",
    "        pred = torch.rand(batch_size)\n",
    "        targ = torch.rand(batch_size)\n",
    "        \n",
    "    w = list(np.random.dirichlet(np.random.rand(10)))\n",
    "    \n",
    "    return pred, targ, w"
   ]
  },
  {
   "cell_type": "code",
   "execution_count": 261,
   "metadata": {},
   "outputs": [],
   "source": [
    "pred, targ, w = make_pred_target(1000, 5, clas=False)"
   ]
  },
  {
   "cell_type": "code",
   "execution_count": 267,
   "metadata": {},
   "outputs": [
    {
     "data": {
      "text/plain": [
       "tensor(-0.9356)"
      ]
     },
     "execution_count": 267,
     "metadata": {},
     "output_type": "execute_result"
    }
   ],
   "source": [
    "r2_score(pred, targ)"
   ]
  }
 ],
 "metadata": {
  "kernelspec": {
   "display_name": "Python [conda env:fast1]",
   "language": "python",
   "name": "conda-env-fast1-py"
  },
  "language_info": {
   "codemirror_mode": {
    "name": "ipython",
    "version": 3
   },
   "file_extension": ".py",
   "mimetype": "text/x-python",
   "name": "python",
   "nbconvert_exporter": "python",
   "pygments_lexer": "ipython3",
   "version": "3.6.6"
  }
 },
 "nbformat": 4,
 "nbformat_minor": 2
}
